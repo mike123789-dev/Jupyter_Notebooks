{
  "nbformat": 4,
  "nbformat_minor": 0,
  "metadata": {
    "colab": {
      "name": "R-intro.ipynb",
      "provenance": [],
      "collapsed_sections": []
    },
    "kernelspec": {
      "name": "ir",
      "display_name": "R"
    }
  },
  "cells": [
    {
      "cell_type": "markdown",
      "metadata": {
        "id": "_-iVEtg3qIvY",
        "colab_type": "text"
      },
      "source": [
        "Data Type에대해서 알아보자\n",
        "\n",
        "_만약에 어떤 data type인지 알고 싶으면 class(___)를 console에 입력해보자_\n",
        "\n",
        "\n",
        "\n",
        "\n",
        "\n",
        "\n",
        "\n",
        "\n",
        "\n",
        "\n"
      ]
    },
    {
      "cell_type": "markdown",
      "metadata": {
        "id": "u1IQsvUqJ2ZQ",
        "colab_type": "text"
      },
      "source": [
        "# Vector\n",
        "\n",
        "벡터끼리 계산하기 매우편하다!"
      ]
    },
    {
      "cell_type": "code",
      "metadata": {
        "id": "44-suaX3KMIA",
        "colab_type": "code",
        "colab": {
          "base_uri": "https://localhost:8080/",
          "height": 102
        },
        "outputId": "aec048e8-4b96-44c9-bc43-f23d8cd4cf76"
      },
      "source": [
        "nums <- c(1,2,3)\n",
        "#벡터의 이름을 정해줄수도 있다.\n",
        "names(nums) <- c(\"first\",\"second\",\"third\")\n",
        "print(nums)\n",
        "\n",
        "#벡터끼리 계산도 매우 편하다!\n",
        "\n",
        "more_nums <- c(4,5,6)\n",
        "print(\"=========\")\n",
        "nums+more_nums\n",
        "#벡터안의 value의 합을 찾을수도 있다.\n",
        "print(sum(nums))\n"
      ],
      "execution_count": null,
      "outputs": [
        {
          "output_type": "stream",
          "text": [
            " first second  third \n",
            "     1      2      3 \n",
            "[1] \"=========\"\n"
          ],
          "name": "stdout"
        },
        {
          "output_type": "display_data",
          "data": {
            "text/plain": [
              " first second  third \n",
              "     5      7      9 "
            ],
            "text/latex": "\\begin{description*}\n\\item[first] 5\n\\item[second] 7\n\\item[third] 9\n\\end{description*}\n",
            "text/markdown": "first\n:   5second\n:   7third\n:   9\n\n",
            "text/html": [
              "<style>\n",
              ".dl-inline {width: auto; margin:0; padding: 0}\n",
              ".dl-inline>dt, .dl-inline>dd {float: none; width: auto; display: inline-block}\n",
              ".dl-inline>dt::after {content: \":\\0020\"; padding-right: .5ex}\n",
              ".dl-inline>dt:not(:first-of-type) {padding-left: .5ex}\n",
              "</style><dl class=dl-inline><dt>first</dt><dd>5</dd><dt>second</dt><dd>7</dd><dt>third</dt><dd>9</dd></dl>\n"
            ]
          },
          "metadata": {
            "tags": []
          }
        },
        {
          "output_type": "stream",
          "text": [
            "[1] 6\n"
          ],
          "name": "stdout"
        }
      ]
    },
    {
      "cell_type": "markdown",
      "metadata": {
        "id": "VRc-A5OjK8s7",
        "colab_type": "text"
      },
      "source": [
        "**파이썬은 index가 0부터 시작하지만, R에서는 index가 0부터 시작한다!**\n",
        "\n",
        "\n"
      ]
    },
    {
      "cell_type": "code",
      "metadata": {
        "id": "P3rRkS8gLO9G",
        "colab_type": "code",
        "colab": {
          "base_uri": "https://localhost:8080/",
          "height": 34
        },
        "outputId": "f3021b0e-33df-48aa-cb0d-629648679602"
      },
      "source": [
        "nums[1]"
      ],
      "execution_count": null,
      "outputs": [
        {
          "output_type": "display_data",
          "data": {
            "text/plain": [
              "first \n",
              "    1 "
            ],
            "text/latex": "\\textbf{first:} 1",
            "text/markdown": "**first:** 1",
            "text/html": [
              "<strong>first:</strong> 1"
            ]
          },
          "metadata": {
            "tags": []
          }
        }
      ]
    },
    {
      "cell_type": "markdown",
      "metadata": {
        "id": "2GXv5xIwLSUd",
        "colab_type": "text"
      },
      "source": [
        "logical comparison도 가능하다\n"
      ]
    },
    {
      "cell_type": "code",
      "metadata": {
        "id": "BwUx6Mb6LaEJ",
        "colab_type": "code",
        "colab": {
          "base_uri": "https://localhost:8080/",
          "height": 68
        },
        "outputId": "c99ccad1-577d-45ac-b436-3dcece977c08"
      },
      "source": [
        "is_bigger_than_1 <- nums>1\n",
        "is_bigger_than_1\n",
        "\n",
        "#위의 logical vector를 이용하여 원하는것만 걸러내자\n",
        "print(nums[is_bigger_than_1])"
      ],
      "execution_count": null,
      "outputs": [
        {
          "output_type": "display_data",
          "data": {
            "text/plain": [
              " first second  third \n",
              " FALSE   TRUE   TRUE "
            ],
            "text/latex": "\\begin{description*}\n\\item[first] FALSE\n\\item[second] TRUE\n\\item[third] TRUE\n\\end{description*}\n",
            "text/markdown": "first\n:   FALSEsecond\n:   TRUEthird\n:   TRUE\n\n",
            "text/html": [
              "<style>\n",
              ".dl-inline {width: auto; margin:0; padding: 0}\n",
              ".dl-inline>dt, .dl-inline>dd {float: none; width: auto; display: inline-block}\n",
              ".dl-inline>dt::after {content: \":\\0020\"; padding-right: .5ex}\n",
              ".dl-inline>dt:not(:first-of-type) {padding-left: .5ex}\n",
              "</style><dl class=dl-inline><dt>first</dt><dd>FALSE</dd><dt>second</dt><dd>TRUE</dd><dt>third</dt><dd>TRUE</dd></dl>\n"
            ]
          },
          "metadata": {
            "tags": []
          }
        },
        {
          "output_type": "stream",
          "text": [
            "second  third \n",
            "     2      3 \n"
          ],
          "name": "stdout"
        }
      ]
    },
    {
      "cell_type": "markdown",
      "metadata": {
        "id": "zmgjwBZ6LwsI",
        "colab_type": "text"
      },
      "source": [
        "# Matrix\n",
        "matrix는 **같은 data type**(숫자, char, logical)으로만 만들어진 고정된 행렬이다\n",
        "\n"
      ]
    },
    {
      "cell_type": "code",
      "metadata": {
        "id": "4L3LEmsBMWxo",
        "colab_type": "code",
        "colab": {
          "base_uri": "https://localhost:8080/",
          "height": 184
        },
        "outputId": "40467259-4eb9-45e9-fefc-1fe3d962cb65"
      },
      "source": [
        "#1에서9까지 / 행으로 / 행은 총 3개!\n",
        "my_matrix<- matrix(1:9,byrow = TRUE, nrow = 3)\n",
        "my_matrix"
      ],
      "execution_count": null,
      "outputs": [
        {
          "output_type": "display_data",
          "data": {
            "text/plain": [
              "     [,1] [,2] [,3]\n",
              "[1,] 1    2    3   \n",
              "[2,] 4    5    6   \n",
              "[3,] 7    8    9   "
            ],
            "text/latex": "A matrix: 3 × 3 of type int\n\\begin{tabular}{lll}\n\t 1 & 2 & 3\\\\\n\t 4 & 5 & 6\\\\\n\t 7 & 8 & 9\\\\\n\\end{tabular}\n",
            "text/markdown": "\nA matrix: 3 × 3 of type int\n\n| 1 | 2 | 3 |\n| 4 | 5 | 6 |\n| 7 | 8 | 9 |\n\n",
            "text/html": [
              "<table>\n",
              "<caption>A matrix: 3 × 3 of type int</caption>\n",
              "<tbody>\n",
              "\t<tr><td>1</td><td>2</td><td>3</td></tr>\n",
              "\t<tr><td>4</td><td>5</td><td>6</td></tr>\n",
              "\t<tr><td>7</td><td>8</td><td>9</td></tr>\n",
              "</tbody>\n",
              "</table>\n"
            ]
          },
          "metadata": {
            "tags": []
          }
        }
      ]
    },
    {
      "cell_type": "markdown",
      "metadata": {
        "id": "Pfi25OLYMqmM",
        "colab_type": "text"
      },
      "source": [
        "matrix를 이용한 계산 역시 여러가지가 있다"
      ]
    },
    {
      "cell_type": "code",
      "metadata": {
        "id": "1sRzQtXlMyUV",
        "colab_type": "code",
        "colab": {
          "base_uri": "https://localhost:8080/",
          "height": 170
        },
        "outputId": "628b24cf-d09f-4658-b342-c572cbac59aa"
      },
      "source": [
        "#각 행의 합을 구해주자\n",
        "print(rowSums(my_matrix))\n",
        "#각 원소에 2를 곱해주자\n",
        "print(my_matrix*2)\n",
        "\n",
        "\n",
        "more_matrix <-matrix(11:19, byrow = TRUE, nrow = 3)\n",
        "\n",
        "#matrix끼리 더할수 있다.\n",
        "print(my_matrix+more_matrix)\n",
        "\n"
      ],
      "execution_count": null,
      "outputs": [
        {
          "output_type": "stream",
          "text": [
            "[1]  6 15 24\n",
            "     [,1] [,2] [,3]\n",
            "[1,]    2    4    6\n",
            "[2,]    8   10   12\n",
            "[3,]   14   16   18\n",
            "     [,1] [,2] [,3]\n",
            "[1,]   12   14   16\n",
            "[2,]   18   20   22\n",
            "[3,]   24   26   28\n"
          ],
          "name": "stdout"
        }
      ]
    },
    {
      "cell_type": "markdown",
      "metadata": {
        "id": "Lp03rMSgNeLh",
        "colab_type": "text"
      },
      "source": [
        "행끼리의 곱셈은 살짝 조심해주자!"
      ]
    },
    {
      "cell_type": "code",
      "metadata": {
        "id": "zuf9ayrcNhNC",
        "colab_type": "code",
        "colab": {
          "base_uri": "https://localhost:8080/",
          "height": 153
        },
        "outputId": "b5354730-4cab-4e7e-9922-8db6f05a00aa"
      },
      "source": [
        "#같은 위치의 원소끼리만 곱할때\n",
        "print(my_matrix * more_matrix)\n",
        "\n",
        "#일반적인 행렬사 끼리의 곱을 할때\n",
        "print(my_matrix %*% more_matrix)"
      ],
      "execution_count": null,
      "outputs": [
        {
          "output_type": "stream",
          "text": [
            "     [,1] [,2] [,3]\n",
            "[1,]   11   24   39\n",
            "[2,]   56   75   96\n",
            "[3,]  119  144  171\n",
            "     [,1] [,2] [,3]\n",
            "[1,]   90   96  102\n",
            "[2,]  216  231  246\n",
            "[3,]  342  366  390\n"
          ],
          "name": "stdout"
        }
      ]
    },
    {
      "cell_type": "markdown",
      "metadata": {
        "id": "vZD7dB2_L0FV",
        "colab_type": "text"
      },
      "source": [
        "# Factors\n",
        "\n",
        "factor는 categorical varaiable을 저장할때 쓰인다\n",
        "\n",
        "먼저 예시를 봐보면\n"
      ]
    },
    {
      "cell_type": "code",
      "metadata": {
        "id": "6_ZM66ZtN9fZ",
        "colab_type": "code",
        "colab": {
          "base_uri": "https://localhost:8080/",
          "height": 51
        },
        "outputId": "365c5da8-3142-45ef-bcf9-6ff0f3a860db"
      },
      "source": [
        "speed_vector<- c(\"fast\",\"slow\",\"fast\",\"fast\",\"fast\",\"slow\",\"medium\")\n",
        "speed_factor <- factor(speed_vector)\n",
        "print(speed_factor)"
      ],
      "execution_count": null,
      "outputs": [
        {
          "output_type": "stream",
          "text": [
            "[1] fast   slow   fast   fast   fast   slow   medium\n",
            "Levels: fast medium slow\n"
          ],
          "name": "stdout"
        }
      ]
    },
    {
      "cell_type": "markdown",
      "metadata": {
        "id": "0cHytDIoON9p",
        "colab_type": "text"
      },
      "source": [
        "R은 variable이 continuous인지 categorical인지 자동으로 알아낸다\n",
        "\n",
        "categorical variable도 종류가 나뉘는데\n",
        "\n",
        "\n",
        "*   nomial : 순서가 없는것\n",
        "*   ordinal :  순서가 있는것\n",
        "\n",
        "위의 speed_vector를 보면 빠르고 느린것에는 순서가 있으므로 ordinal일테고\n",
        "\n",
        "*사자/호랑이/코끼리*  같은 경우에는 nomial이다\n",
        "\n",
        "\n"
      ]
    },
    {
      "cell_type": "code",
      "metadata": {
        "id": "IAYBeaAaPF1E",
        "colab_type": "code",
        "colab": {
          "base_uri": "https://localhost:8080/",
          "height": 51
        },
        "outputId": "1a0d459f-63c9-4854-86e5-ee29b9f01e7e"
      },
      "source": [
        "#summary를 통해서 level별로 몇개인지 알아보자\n",
        "summary(speed_factor)\n",
        "\n",
        "#ordered factor를 만들고 싶으면\n",
        "ordered_speed_factor<- factor(speed_vector, ordered = TRUE, levels = c(\"slow\",\"medium\",\"fast\"))\n",
        "summary(ordered_speed_factor)"
      ],
      "execution_count": null,
      "outputs": [
        {
          "output_type": "display_data",
          "data": {
            "text/plain": [
              "  fast medium   slow \n",
              "     4      1      2 "
            ],
            "text/latex": "\\begin{description*}\n\\item[fast] 4\n\\item[medium] 1\n\\item[slow] 2\n\\end{description*}\n",
            "text/markdown": "fast\n:   4medium\n:   1slow\n:   2\n\n",
            "text/html": [
              "<style>\n",
              ".dl-inline {width: auto; margin:0; padding: 0}\n",
              ".dl-inline>dt, .dl-inline>dd {float: none; width: auto; display: inline-block}\n",
              ".dl-inline>dt::after {content: \":\\0020\"; padding-right: .5ex}\n",
              ".dl-inline>dt:not(:first-of-type) {padding-left: .5ex}\n",
              "</style><dl class=dl-inline><dt>fast</dt><dd>4</dd><dt>medium</dt><dd>1</dd><dt>slow</dt><dd>2</dd></dl>\n"
            ]
          },
          "metadata": {
            "tags": []
          }
        },
        {
          "output_type": "display_data",
          "data": {
            "text/plain": [
              "  slow medium   fast \n",
              "     2      1      4 "
            ],
            "text/latex": "\\begin{description*}\n\\item[slow] 2\n\\item[medium] 1\n\\item[fast] 4\n\\end{description*}\n",
            "text/markdown": "slow\n:   2medium\n:   1fast\n:   4\n\n",
            "text/html": [
              "<style>\n",
              ".dl-inline {width: auto; margin:0; padding: 0}\n",
              ".dl-inline>dt, .dl-inline>dd {float: none; width: auto; display: inline-block}\n",
              ".dl-inline>dt::after {content: \":\\0020\"; padding-right: .5ex}\n",
              ".dl-inline>dt:not(:first-of-type) {padding-left: .5ex}\n",
              "</style><dl class=dl-inline><dt>slow</dt><dd>2</dd><dt>medium</dt><dd>1</dd><dt>fast</dt><dd>4</dd></dl>\n"
            ]
          },
          "metadata": {
            "tags": []
          }
        }
      ]
    },
    {
      "cell_type": "markdown",
      "metadata": {
        "id": "2jBJiUbhL0YW",
        "colab_type": "text"
      },
      "source": [
        "# Data frame\n",
        " Data frame 은 matrix와는 다르게 여러 종류의 data type를 저장할수 있다\n",
        "\n",
        " Data frame을 만들대는 vector를 넣어주게 되는데 이때 vector하나가 열 하나가 되는것이다\n",
        "\n",
        " \n",
        "\n"
      ]
    },
    {
      "cell_type": "code",
      "metadata": {
        "id": "z5B3hCtoUMa_",
        "colab_type": "code",
        "colab": {
          "base_uri": "https://localhost:8080/",
          "height": 221
        },
        "outputId": "3ec26dc3-2ba0-4662-ce31-c0adb03ec37d"
      },
      "source": [
        "col_1 <- c(\"a\",\"b\",\"c\")\n",
        "col_2 <- c(1,2,3)\n",
        "col_3 <- c(TRUE, TRUE, FALSE)\n",
        "\n",
        "my_df <- data.frame(col_1,col_2,col_3)\n",
        "print(my_df)\n",
        "\n",
        "#df에서 선택하기\n",
        "\n",
        "#열 선택하기\n",
        "print(my_df[,1])\n",
        " #열선택하는 다른 방법!\n",
        "print(my_df$col_1)\n",
        " #행 선택하기\n",
        "print(my_df[1,])\n",
        "\n",
        "#특정을 선택하기\n",
        "is_bigger_than_2 = col_2>2\n",
        "\n",
        "my_df.subset <- subset(my_df, subset = is_bigger_than_2)\n",
        "print(my_df.subset)"
      ],
      "execution_count": null,
      "outputs": [
        {
          "output_type": "stream",
          "text": [
            "  col_1 col_2 col_3\n",
            "1     a     1  TRUE\n",
            "2     b     2  TRUE\n",
            "3     c     3 FALSE\n",
            "[1] a b c\n",
            "Levels: a b c\n",
            "[1] a b c\n",
            "Levels: a b c\n",
            "  col_1 col_2 col_3\n",
            "1     a     1  TRUE\n",
            "  col_1 col_2 col_3\n",
            "3     c     3 FALSE\n"
          ],
          "name": "stdout"
        }
      ]
    },
    {
      "cell_type": "markdown",
      "metadata": {
        "id": "Dg0JUrfJV9CX",
        "colab_type": "text"
      },
      "source": [
        "# 정렬 (sort)\n",
        "\n",
        "order()을 이용하자\n",
        "\n",
        "order를 이용하면 반환되는 값은 value의 ranked position 이다  _밑에 예시를 잘보쟈_\n"
      ]
    },
    {
      "cell_type": "code",
      "metadata": {
        "id": "xcO_lb6TWKAL",
        "colab_type": "code",
        "colab": {}
      },
      "source": [
        "#먼저 앞으로 쓰일 data frame을 만들어보자\n",
        "name <- c(\"Mercury\", \"Venus\", \"Earth\", \"Mars\", \"Jupiter\", \"Saturn\", \"Uranus\", \"Neptune\")\n",
        "type <- c(\"Terrestrial planet\", \"Terrestrial planet\", \"Terrestrial planet\", \n",
        "          \"Terrestrial planet\", \"Gas giant\", \"Gas giant\", \"Gas giant\", \"Gas giant\")\n",
        "diameter <- c(0.382, 0.949, 1, 0.532, 11.209, 9.449, 4.007, 3.883)\n",
        "rotation <- c(58.64, -243.02, 1, 1.03, 0.41, 0.43, -0.72, 0.67)\n",
        "rings <- c(FALSE, FALSE, FALSE, FALSE, TRUE, TRUE, TRUE, TRUE)\n",
        "\n",
        "# Create a data frame from the vectors\n",
        "planets_df <- data.frame(name, type, diameter, rotation, rings)"
      ],
      "execution_count": null,
      "outputs": []
    },
    {
      "cell_type": "code",
      "metadata": {
        "id": "L_5rKm4bWOym",
        "colab_type": "code",
        "colab": {
          "base_uri": "https://localhost:8080/",
          "height": 34
        },
        "outputId": "75e3218b-9b0b-4d23-93bf-de078ecd3da8"
      },
      "source": [
        "order(diameter)"
      ],
      "execution_count": null,
      "outputs": [
        {
          "output_type": "display_data",
          "data": {
            "text/plain": [
              "[1] 1 4 2 3 8 7 6 5"
            ],
            "text/latex": "\\begin{enumerate*}\n\\item 1\n\\item 4\n\\item 2\n\\item 3\n\\item 8\n\\item 7\n\\item 6\n\\item 5\n\\end{enumerate*}\n",
            "text/markdown": "1. 1\n2. 4\n3. 2\n4. 3\n5. 8\n6. 7\n7. 6\n8. 5\n\n\n",
            "text/html": [
              "<style>\n",
              ".list-inline {list-style: none; margin:0; padding: 0}\n",
              ".list-inline>li {display: inline-block}\n",
              ".list-inline>li:not(:last-child)::after {content: \"\\00b7\"; padding: 0 .5ex}\n",
              "</style>\n",
              "<ol class=list-inline><li>1</li><li>4</li><li>2</li><li>3</li><li>8</li><li>7</li><li>6</li><li>5</li></ol>\n"
            ]
          },
          "metadata": {
            "tags": []
          }
        }
      ]
    },
    {
      "cell_type": "markdown",
      "metadata": {
        "id": "0Q3x29WIWnlu",
        "colab_type": "text"
      },
      "source": [
        "그래서 바로 쓰면안되고 index로 넣어야한다"
      ]
    },
    {
      "cell_type": "code",
      "metadata": {
        "id": "zT6zRVeqWkrU",
        "colab_type": "code",
        "colab": {
          "base_uri": "https://localhost:8080/",
          "height": 34
        },
        "outputId": "796713be-aacf-491e-b2d1-db8c3cf43d61"
      },
      "source": [
        "diameter[order(diameter)]"
      ],
      "execution_count": null,
      "outputs": [
        {
          "output_type": "display_data",
          "data": {
            "text/plain": [
              "[1]  0.382  0.532  0.949  1.000  3.883  4.007  9.449 11.209"
            ],
            "text/latex": "\\begin{enumerate*}\n\\item 0.382\n\\item 0.532\n\\item 0.949\n\\item 1\n\\item 3.883\n\\item 4.007\n\\item 9.449\n\\item 11.209\n\\end{enumerate*}\n",
            "text/markdown": "1. 0.382\n2. 0.532\n3. 0.949\n4. 1\n5. 3.883\n6. 4.007\n7. 9.449\n8. 11.209\n\n\n",
            "text/html": [
              "<style>\n",
              ".list-inline {list-style: none; margin:0; padding: 0}\n",
              ".list-inline>li {display: inline-block}\n",
              ".list-inline>li:not(:last-child)::after {content: \"\\00b7\"; padding: 0 .5ex}\n",
              "</style>\n",
              "<ol class=list-inline><li>0.382</li><li>0.532</li><li>0.949</li><li>1</li><li>3.883</li><li>4.007</li><li>9.449</li><li>11.209</li></ol>\n"
            ]
          },
          "metadata": {
            "tags": []
          }
        }
      ]
    },
    {
      "cell_type": "markdown",
      "metadata": {
        "id": "EmyY7wpbWkRD",
        "colab_type": "text"
      },
      "source": [
        "data frame에 사용할때도 조심하자!\n"
      ]
    },
    {
      "cell_type": "code",
      "metadata": {
        "id": "P3VW8ThvWyKS",
        "colab_type": "code",
        "colab": {
          "base_uri": "https://localhost:8080/",
          "height": 164
        },
        "outputId": "65ef7b24-992c-4430-fdd0-3b479ced11d0"
      },
      "source": [
        "positions<- order(diameter)\n",
        "planets_df[positions]"
      ],
      "execution_count": null,
      "outputs": [
        {
          "output_type": "error",
          "ename": "ERROR",
          "evalue": "ignored",
          "traceback": [
            "Error in `[.data.frame`(planets_df, positions): undefined columns selected\nTraceback:\n",
            "1. planets_df[positions]",
            "2. `[.data.frame`(planets_df, positions)",
            "3. stop(\"undefined columns selected\")"
          ]
        }
      ]
    },
    {
      "cell_type": "code",
      "metadata": {
        "id": "bUJI95EFW9il",
        "colab_type": "code",
        "colab": {
          "base_uri": "https://localhost:8080/",
          "height": 246
        },
        "outputId": "d5a21428-563a-43bc-ef1c-96ffc0fbd52b"
      },
      "source": [
        "#현재 positions는 순위가 저장되어있으니까 순위를 row에 넘겨줘야한다\n",
        "planets_df[positions,]"
      ],
      "execution_count": null,
      "outputs": [
        {
          "output_type": "display_data",
          "data": {
            "text/plain": [
              "  name    type               diameter rotation rings\n",
              "1 Mercury Terrestrial planet  0.382     58.64  FALSE\n",
              "4 Mars    Terrestrial planet  0.532      1.03  FALSE\n",
              "2 Venus   Terrestrial planet  0.949   -243.02  FALSE\n",
              "3 Earth   Terrestrial planet  1.000      1.00  FALSE\n",
              "8 Neptune Gas giant           3.883      0.67   TRUE\n",
              "7 Uranus  Gas giant           4.007     -0.72   TRUE\n",
              "6 Saturn  Gas giant           9.449      0.43   TRUE\n",
              "5 Jupiter Gas giant          11.209      0.41   TRUE"
            ],
            "text/latex": "A data.frame: 8 × 5\n\\begin{tabular}{r|lllll}\n  & name & type & diameter & rotation & rings\\\\\n  & <fct> & <fct> & <dbl> & <dbl> & <lgl>\\\\\n\\hline\n\t1 & Mercury & Terrestrial planet &  0.382 &   58.64 & FALSE\\\\\n\t4 & Mars    & Terrestrial planet &  0.532 &    1.03 & FALSE\\\\\n\t2 & Venus   & Terrestrial planet &  0.949 & -243.02 & FALSE\\\\\n\t3 & Earth   & Terrestrial planet &  1.000 &    1.00 & FALSE\\\\\n\t8 & Neptune & Gas giant          &  3.883 &    0.67 &  TRUE\\\\\n\t7 & Uranus  & Gas giant          &  4.007 &   -0.72 &  TRUE\\\\\n\t6 & Saturn  & Gas giant          &  9.449 &    0.43 &  TRUE\\\\\n\t5 & Jupiter & Gas giant          & 11.209 &    0.41 &  TRUE\\\\\n\\end{tabular}\n",
            "text/markdown": "\nA data.frame: 8 × 5\n\n| <!--/--> | name &lt;fct&gt; | type &lt;fct&gt; | diameter &lt;dbl&gt; | rotation &lt;dbl&gt; | rings &lt;lgl&gt; |\n|---|---|---|---|---|---|\n| 1 | Mercury | Terrestrial planet |  0.382 |   58.64 | FALSE |\n| 4 | Mars    | Terrestrial planet |  0.532 |    1.03 | FALSE |\n| 2 | Venus   | Terrestrial planet |  0.949 | -243.02 | FALSE |\n| 3 | Earth   | Terrestrial planet |  1.000 |    1.00 | FALSE |\n| 8 | Neptune | Gas giant          |  3.883 |    0.67 |  TRUE |\n| 7 | Uranus  | Gas giant          |  4.007 |   -0.72 |  TRUE |\n| 6 | Saturn  | Gas giant          |  9.449 |    0.43 |  TRUE |\n| 5 | Jupiter | Gas giant          | 11.209 |    0.41 |  TRUE |\n\n",
            "text/html": [
              "<table>\n",
              "<caption>A data.frame: 8 × 5</caption>\n",
              "<thead>\n",
              "\t<tr><th></th><th scope=col>name</th><th scope=col>type</th><th scope=col>diameter</th><th scope=col>rotation</th><th scope=col>rings</th></tr>\n",
              "\t<tr><th></th><th scope=col>&lt;fct&gt;</th><th scope=col>&lt;fct&gt;</th><th scope=col>&lt;dbl&gt;</th><th scope=col>&lt;dbl&gt;</th><th scope=col>&lt;lgl&gt;</th></tr>\n",
              "</thead>\n",
              "<tbody>\n",
              "\t<tr><th scope=row>1</th><td>Mercury</td><td>Terrestrial planet</td><td> 0.382</td><td>  58.64</td><td>FALSE</td></tr>\n",
              "\t<tr><th scope=row>4</th><td>Mars   </td><td>Terrestrial planet</td><td> 0.532</td><td>   1.03</td><td>FALSE</td></tr>\n",
              "\t<tr><th scope=row>2</th><td>Venus  </td><td>Terrestrial planet</td><td> 0.949</td><td>-243.02</td><td>FALSE</td></tr>\n",
              "\t<tr><th scope=row>3</th><td>Earth  </td><td>Terrestrial planet</td><td> 1.000</td><td>   1.00</td><td>FALSE</td></tr>\n",
              "\t<tr><th scope=row>8</th><td>Neptune</td><td>Gas giant         </td><td> 3.883</td><td>   0.67</td><td> TRUE</td></tr>\n",
              "\t<tr><th scope=row>7</th><td>Uranus </td><td>Gas giant         </td><td> 4.007</td><td>  -0.72</td><td> TRUE</td></tr>\n",
              "\t<tr><th scope=row>6</th><td>Saturn </td><td>Gas giant         </td><td> 9.449</td><td>   0.43</td><td> TRUE</td></tr>\n",
              "\t<tr><th scope=row>5</th><td>Jupiter</td><td>Gas giant         </td><td>11.209</td><td>   0.41</td><td> TRUE</td></tr>\n",
              "</tbody>\n",
              "</table>\n"
            ]
          },
          "metadata": {
            "tags": []
          }
        }
      ]
    },
    {
      "cell_type": "markdown",
      "metadata": {
        "id": "bQ_gJ9DGV9Vr",
        "colab_type": "text"
      },
      "source": [
        "# List\n",
        "List는 다양한 object를 순서대로 넣을수 있는 data type\n",
        "\n",
        "위에서는 길이에 신경을 써야하는 경우가 많았는데, list는 신경쓰지 않아도 된다.\n",
        "\n",
        "사실상 어떤걸 넣어도 상관없는게 list다!\n",
        "\n",
        "먼저 코드를 한번 봐보자\n",
        "\n"
      ]
    },
    {
      "cell_type": "code",
      "metadata": {
        "id": "E_TfGdDrXl0Z",
        "colab_type": "code",
        "colab": {
          "base_uri": "https://localhost:8080/",
          "height": 458
        },
        "outputId": "78c2daa7-c268-4e52-fc02-8b84199edb1f"
      },
      "source": [
        "anything_list <- list( nums, my_matrix, planets_df)\n",
        "anything_list"
      ],
      "execution_count": null,
      "outputs": [
        {
          "output_type": "display_data",
          "data": {
            "text/plain": [
              "[[1]]\n",
              " first second  third \n",
              "     1      2      3 \n",
              "\n",
              "[[2]]\n",
              "     [,1] [,2] [,3]\n",
              "[1,]    1    2    3\n",
              "[2,]    4    5    6\n",
              "[3,]    7    8    9\n",
              "\n",
              "[[3]]\n",
              "     name               type diameter rotation rings\n",
              "1 Mercury Terrestrial planet    0.382    58.64 FALSE\n",
              "2   Venus Terrestrial planet    0.949  -243.02 FALSE\n",
              "3   Earth Terrestrial planet    1.000     1.00 FALSE\n",
              "4    Mars Terrestrial planet    0.532     1.03 FALSE\n",
              "5 Jupiter          Gas giant   11.209     0.41  TRUE\n",
              "6  Saturn          Gas giant    9.449     0.43  TRUE\n",
              "7  Uranus          Gas giant    4.007    -0.72  TRUE\n",
              "8 Neptune          Gas giant    3.883     0.67  TRUE\n"
            ],
            "text/latex": "\\begin{enumerate}\n\\item \\begin{description*}\n\\item[first] 1\n\\item[second] 2\n\\item[third] 3\n\\end{description*}\n\n\\item A matrix: 3 × 3 of type int\n\\begin{tabular}{lll}\n\t 1 & 2 & 3\\\\\n\t 4 & 5 & 6\\\\\n\t 7 & 8 & 9\\\\\n\\end{tabular}\n\n\\item A data.frame: 8 × 5\n\\begin{tabular}{lllll}\n name & type & diameter & rotation & rings\\\\\n <fct> & <fct> & <dbl> & <dbl> & <lgl>\\\\\n\\hline\n\t Mercury & Terrestrial planet &  0.382 &   58.64 & FALSE\\\\\n\t Venus   & Terrestrial planet &  0.949 & -243.02 & FALSE\\\\\n\t Earth   & Terrestrial planet &  1.000 &    1.00 & FALSE\\\\\n\t Mars    & Terrestrial planet &  0.532 &    1.03 & FALSE\\\\\n\t Jupiter & Gas giant          & 11.209 &    0.41 &  TRUE\\\\\n\t Saturn  & Gas giant          &  9.449 &    0.43 &  TRUE\\\\\n\t Uranus  & Gas giant          &  4.007 &   -0.72 &  TRUE\\\\\n\t Neptune & Gas giant          &  3.883 &    0.67 &  TRUE\\\\\n\\end{tabular}\n\n\\end{enumerate}\n",
            "text/markdown": "1. first\n:   1second\n:   2third\n:   3\n\n\n2. \nA matrix: 3 × 3 of type int\n\n| 1 | 2 | 3 |\n| 4 | 5 | 6 |\n| 7 | 8 | 9 |\n\n\n3. \nA data.frame: 8 × 5\n\n| name &lt;fct&gt; | type &lt;fct&gt; | diameter &lt;dbl&gt; | rotation &lt;dbl&gt; | rings &lt;lgl&gt; |\n|---|---|---|---|---|\n| Mercury | Terrestrial planet |  0.382 |   58.64 | FALSE |\n| Venus   | Terrestrial planet |  0.949 | -243.02 | FALSE |\n| Earth   | Terrestrial planet |  1.000 |    1.00 | FALSE |\n| Mars    | Terrestrial planet |  0.532 |    1.03 | FALSE |\n| Jupiter | Gas giant          | 11.209 |    0.41 |  TRUE |\n| Saturn  | Gas giant          |  9.449 |    0.43 |  TRUE |\n| Uranus  | Gas giant          |  4.007 |   -0.72 |  TRUE |\n| Neptune | Gas giant          |  3.883 |    0.67 |  TRUE |\n\n\n\n\n",
            "text/html": [
              "<ol>\n",
              "\t<li><style>\n",
              ".dl-inline {width: auto; margin:0; padding: 0}\n",
              ".dl-inline>dt, .dl-inline>dd {float: none; width: auto; display: inline-block}\n",
              ".dl-inline>dt::after {content: \":\\0020\"; padding-right: .5ex}\n",
              ".dl-inline>dt:not(:first-of-type) {padding-left: .5ex}\n",
              "</style><dl class=dl-inline><dt>first</dt><dd>1</dd><dt>second</dt><dd>2</dd><dt>third</dt><dd>3</dd></dl>\n",
              "</li>\n",
              "\t<li><table>\n",
              "<caption>A matrix: 3 × 3 of type int</caption>\n",
              "<tbody>\n",
              "\t<tr><td>1</td><td>2</td><td>3</td></tr>\n",
              "\t<tr><td>4</td><td>5</td><td>6</td></tr>\n",
              "\t<tr><td>7</td><td>8</td><td>9</td></tr>\n",
              "</tbody>\n",
              "</table>\n",
              "</li>\n",
              "\t<li><table>\n",
              "<caption>A data.frame: 8 × 5</caption>\n",
              "<thead>\n",
              "\t<tr><th scope=col>name</th><th scope=col>type</th><th scope=col>diameter</th><th scope=col>rotation</th><th scope=col>rings</th></tr>\n",
              "\t<tr><th scope=col>&lt;fct&gt;</th><th scope=col>&lt;fct&gt;</th><th scope=col>&lt;dbl&gt;</th><th scope=col>&lt;dbl&gt;</th><th scope=col>&lt;lgl&gt;</th></tr>\n",
              "</thead>\n",
              "<tbody>\n",
              "\t<tr><td>Mercury</td><td>Terrestrial planet</td><td> 0.382</td><td>  58.64</td><td>FALSE</td></tr>\n",
              "\t<tr><td>Venus  </td><td>Terrestrial planet</td><td> 0.949</td><td>-243.02</td><td>FALSE</td></tr>\n",
              "\t<tr><td>Earth  </td><td>Terrestrial planet</td><td> 1.000</td><td>   1.00</td><td>FALSE</td></tr>\n",
              "\t<tr><td>Mars   </td><td>Terrestrial planet</td><td> 0.532</td><td>   1.03</td><td>FALSE</td></tr>\n",
              "\t<tr><td>Jupiter</td><td>Gas giant         </td><td>11.209</td><td>   0.41</td><td> TRUE</td></tr>\n",
              "\t<tr><td>Saturn </td><td>Gas giant         </td><td> 9.449</td><td>   0.43</td><td> TRUE</td></tr>\n",
              "\t<tr><td>Uranus </td><td>Gas giant         </td><td> 4.007</td><td>  -0.72</td><td> TRUE</td></tr>\n",
              "\t<tr><td>Neptune</td><td>Gas giant         </td><td> 3.883</td><td>   0.67</td><td> TRUE</td></tr>\n",
              "</tbody>\n",
              "</table>\n",
              "</li>\n",
              "</ol>\n"
            ]
          },
          "metadata": {
            "tags": []
          }
        }
      ]
    },
    {
      "cell_type": "markdown",
      "metadata": {
        "id": "_Mz7GCNuX8we",
        "colab_type": "text"
      },
      "source": [
        "정말로 아무거나 넣을수 있고, 내가 넣은 순서대로 저장이된다\n",
        "\n",
        "_물론 진짜 아무거나 넣는다기보다는 내가 원하는 자료들을 제약 없이 넣고 싶을때 쓰면될거 같다_\n"
      ]
    },
    {
      "cell_type": "markdown",
      "metadata": {
        "id": "4PlB6hvZYNAp",
        "colab_type": "text"
      },
      "source": [
        "list를 부를때는 위에서와 같이 $를 쓰거나 [[]]를 이용하면된다.\n"
      ]
    },
    {
      "cell_type": "code",
      "metadata": {
        "id": "jUKsYRy-YURw",
        "colab_type": "code",
        "colab": {
          "base_uri": "https://localhost:8080/",
          "height": 509
        },
        "outputId": "4ce4af04-8c56-4c12-ad03-5f7d3dfbb378"
      },
      "source": [
        "#먼저 name을 해서 이름을 정해주자 \n",
        "names(anything_list) <- c(\"numbers\",\"matrix\",\"planet_df\")\n",
        "anything_list"
      ],
      "execution_count": null,
      "outputs": [
        {
          "output_type": "display_data",
          "data": {
            "text/plain": [
              "$numbers\n",
              " first second  third \n",
              "     1      2      3 \n",
              "\n",
              "$matrix\n",
              "     [,1] [,2] [,3]\n",
              "[1,]    1    2    3\n",
              "[2,]    4    5    6\n",
              "[3,]    7    8    9\n",
              "\n",
              "$planet_df\n",
              "     name               type diameter rotation rings\n",
              "1 Mercury Terrestrial planet    0.382    58.64 FALSE\n",
              "2   Venus Terrestrial planet    0.949  -243.02 FALSE\n",
              "3   Earth Terrestrial planet    1.000     1.00 FALSE\n",
              "4    Mars Terrestrial planet    0.532     1.03 FALSE\n",
              "5 Jupiter          Gas giant   11.209     0.41  TRUE\n",
              "6  Saturn          Gas giant    9.449     0.43  TRUE\n",
              "7  Uranus          Gas giant    4.007    -0.72  TRUE\n",
              "8 Neptune          Gas giant    3.883     0.67  TRUE\n"
            ],
            "text/latex": "\\begin{description}\n\\item[\\$numbers] \\begin{description*}\n\\item[first] 1\n\\item[second] 2\n\\item[third] 3\n\\end{description*}\n\n\\item[\\$matrix] A matrix: 3 × 3 of type int\n\\begin{tabular}{lll}\n\t 1 & 2 & 3\\\\\n\t 4 & 5 & 6\\\\\n\t 7 & 8 & 9\\\\\n\\end{tabular}\n\n\\item[\\$planet\\_df] A data.frame: 8 × 5\n\\begin{tabular}{lllll}\n name & type & diameter & rotation & rings\\\\\n <fct> & <fct> & <dbl> & <dbl> & <lgl>\\\\\n\\hline\n\t Mercury & Terrestrial planet &  0.382 &   58.64 & FALSE\\\\\n\t Venus   & Terrestrial planet &  0.949 & -243.02 & FALSE\\\\\n\t Earth   & Terrestrial planet &  1.000 &    1.00 & FALSE\\\\\n\t Mars    & Terrestrial planet &  0.532 &    1.03 & FALSE\\\\\n\t Jupiter & Gas giant          & 11.209 &    0.41 &  TRUE\\\\\n\t Saturn  & Gas giant          &  9.449 &    0.43 &  TRUE\\\\\n\t Uranus  & Gas giant          &  4.007 &   -0.72 &  TRUE\\\\\n\t Neptune & Gas giant          &  3.883 &    0.67 &  TRUE\\\\\n\\end{tabular}\n\n\\end{description}\n",
            "text/markdown": "$numbers\n:   first\n:   1second\n:   2third\n:   3\n\n\n$matrix\n:   \nA matrix: 3 × 3 of type int\n\n| 1 | 2 | 3 |\n| 4 | 5 | 6 |\n| 7 | 8 | 9 |\n\n\n$planet_df\n:   \nA data.frame: 8 × 5\n\n| name &lt;fct&gt; | type &lt;fct&gt; | diameter &lt;dbl&gt; | rotation &lt;dbl&gt; | rings &lt;lgl&gt; |\n|---|---|---|---|---|\n| Mercury | Terrestrial planet |  0.382 |   58.64 | FALSE |\n| Venus   | Terrestrial planet |  0.949 | -243.02 | FALSE |\n| Earth   | Terrestrial planet |  1.000 |    1.00 | FALSE |\n| Mars    | Terrestrial planet |  0.532 |    1.03 | FALSE |\n| Jupiter | Gas giant          | 11.209 |    0.41 |  TRUE |\n| Saturn  | Gas giant          |  9.449 |    0.43 |  TRUE |\n| Uranus  | Gas giant          |  4.007 |   -0.72 |  TRUE |\n| Neptune | Gas giant          |  3.883 |    0.67 |  TRUE |\n\n\n\n\n",
            "text/html": [
              "<dl>\n",
              "\t<dt>$numbers</dt>\n",
              "\t\t<dd><style>\n",
              ".dl-inline {width: auto; margin:0; padding: 0}\n",
              ".dl-inline>dt, .dl-inline>dd {float: none; width: auto; display: inline-block}\n",
              ".dl-inline>dt::after {content: \":\\0020\"; padding-right: .5ex}\n",
              ".dl-inline>dt:not(:first-of-type) {padding-left: .5ex}\n",
              "</style><dl class=dl-inline><dt>first</dt><dd>1</dd><dt>second</dt><dd>2</dd><dt>third</dt><dd>3</dd></dl>\n",
              "</dd>\n",
              "\t<dt>$matrix</dt>\n",
              "\t\t<dd><table>\n",
              "<caption>A matrix: 3 × 3 of type int</caption>\n",
              "<tbody>\n",
              "\t<tr><td>1</td><td>2</td><td>3</td></tr>\n",
              "\t<tr><td>4</td><td>5</td><td>6</td></tr>\n",
              "\t<tr><td>7</td><td>8</td><td>9</td></tr>\n",
              "</tbody>\n",
              "</table>\n",
              "</dd>\n",
              "\t<dt>$planet_df</dt>\n",
              "\t\t<dd><table>\n",
              "<caption>A data.frame: 8 × 5</caption>\n",
              "<thead>\n",
              "\t<tr><th scope=col>name</th><th scope=col>type</th><th scope=col>diameter</th><th scope=col>rotation</th><th scope=col>rings</th></tr>\n",
              "\t<tr><th scope=col>&lt;fct&gt;</th><th scope=col>&lt;fct&gt;</th><th scope=col>&lt;dbl&gt;</th><th scope=col>&lt;dbl&gt;</th><th scope=col>&lt;lgl&gt;</th></tr>\n",
              "</thead>\n",
              "<tbody>\n",
              "\t<tr><td>Mercury</td><td>Terrestrial planet</td><td> 0.382</td><td>  58.64</td><td>FALSE</td></tr>\n",
              "\t<tr><td>Venus  </td><td>Terrestrial planet</td><td> 0.949</td><td>-243.02</td><td>FALSE</td></tr>\n",
              "\t<tr><td>Earth  </td><td>Terrestrial planet</td><td> 1.000</td><td>   1.00</td><td>FALSE</td></tr>\n",
              "\t<tr><td>Mars   </td><td>Terrestrial planet</td><td> 0.532</td><td>   1.03</td><td>FALSE</td></tr>\n",
              "\t<tr><td>Jupiter</td><td>Gas giant         </td><td>11.209</td><td>   0.41</td><td> TRUE</td></tr>\n",
              "\t<tr><td>Saturn </td><td>Gas giant         </td><td> 9.449</td><td>   0.43</td><td> TRUE</td></tr>\n",
              "\t<tr><td>Uranus </td><td>Gas giant         </td><td> 4.007</td><td>  -0.72</td><td> TRUE</td></tr>\n",
              "\t<tr><td>Neptune</td><td>Gas giant         </td><td> 3.883</td><td>   0.67</td><td> TRUE</td></tr>\n",
              "</tbody>\n",
              "</table>\n",
              "</dd>\n",
              "</dl>\n"
            ]
          },
          "metadata": {
            "tags": []
          }
        }
      ]
    },
    {
      "cell_type": "code",
      "metadata": {
        "id": "58xuLt2iYxOX",
        "colab_type": "code",
        "colab": {
          "base_uri": "https://localhost:8080/",
          "height": 246
        },
        "outputId": "02e4cbb5-75cf-473b-a502-91b82c6c0a33"
      },
      "source": [
        "#이제는 $로해서 선택할수있다\n",
        "anything_list$planet_df"
      ],
      "execution_count": null,
      "outputs": [
        {
          "output_type": "display_data",
          "data": {
            "text/plain": [
              "  name    type               diameter rotation rings\n",
              "1 Mercury Terrestrial planet  0.382     58.64  FALSE\n",
              "2 Venus   Terrestrial planet  0.949   -243.02  FALSE\n",
              "3 Earth   Terrestrial planet  1.000      1.00  FALSE\n",
              "4 Mars    Terrestrial planet  0.532      1.03  FALSE\n",
              "5 Jupiter Gas giant          11.209      0.41   TRUE\n",
              "6 Saturn  Gas giant           9.449      0.43   TRUE\n",
              "7 Uranus  Gas giant           4.007     -0.72   TRUE\n",
              "8 Neptune Gas giant           3.883      0.67   TRUE"
            ],
            "text/latex": "A data.frame: 8 × 5\n\\begin{tabular}{lllll}\n name & type & diameter & rotation & rings\\\\\n <fct> & <fct> & <dbl> & <dbl> & <lgl>\\\\\n\\hline\n\t Mercury & Terrestrial planet &  0.382 &   58.64 & FALSE\\\\\n\t Venus   & Terrestrial planet &  0.949 & -243.02 & FALSE\\\\\n\t Earth   & Terrestrial planet &  1.000 &    1.00 & FALSE\\\\\n\t Mars    & Terrestrial planet &  0.532 &    1.03 & FALSE\\\\\n\t Jupiter & Gas giant          & 11.209 &    0.41 &  TRUE\\\\\n\t Saturn  & Gas giant          &  9.449 &    0.43 &  TRUE\\\\\n\t Uranus  & Gas giant          &  4.007 &   -0.72 &  TRUE\\\\\n\t Neptune & Gas giant          &  3.883 &    0.67 &  TRUE\\\\\n\\end{tabular}\n",
            "text/markdown": "\nA data.frame: 8 × 5\n\n| name &lt;fct&gt; | type &lt;fct&gt; | diameter &lt;dbl&gt; | rotation &lt;dbl&gt; | rings &lt;lgl&gt; |\n|---|---|---|---|---|\n| Mercury | Terrestrial planet |  0.382 |   58.64 | FALSE |\n| Venus   | Terrestrial planet |  0.949 | -243.02 | FALSE |\n| Earth   | Terrestrial planet |  1.000 |    1.00 | FALSE |\n| Mars    | Terrestrial planet |  0.532 |    1.03 | FALSE |\n| Jupiter | Gas giant          | 11.209 |    0.41 |  TRUE |\n| Saturn  | Gas giant          |  9.449 |    0.43 |  TRUE |\n| Uranus  | Gas giant          |  4.007 |   -0.72 |  TRUE |\n| Neptune | Gas giant          |  3.883 |    0.67 |  TRUE |\n\n",
            "text/html": [
              "<table>\n",
              "<caption>A data.frame: 8 × 5</caption>\n",
              "<thead>\n",
              "\t<tr><th scope=col>name</th><th scope=col>type</th><th scope=col>diameter</th><th scope=col>rotation</th><th scope=col>rings</th></tr>\n",
              "\t<tr><th scope=col>&lt;fct&gt;</th><th scope=col>&lt;fct&gt;</th><th scope=col>&lt;dbl&gt;</th><th scope=col>&lt;dbl&gt;</th><th scope=col>&lt;lgl&gt;</th></tr>\n",
              "</thead>\n",
              "<tbody>\n",
              "\t<tr><td>Mercury</td><td>Terrestrial planet</td><td> 0.382</td><td>  58.64</td><td>FALSE</td></tr>\n",
              "\t<tr><td>Venus  </td><td>Terrestrial planet</td><td> 0.949</td><td>-243.02</td><td>FALSE</td></tr>\n",
              "\t<tr><td>Earth  </td><td>Terrestrial planet</td><td> 1.000</td><td>   1.00</td><td>FALSE</td></tr>\n",
              "\t<tr><td>Mars   </td><td>Terrestrial planet</td><td> 0.532</td><td>   1.03</td><td>FALSE</td></tr>\n",
              "\t<tr><td>Jupiter</td><td>Gas giant         </td><td>11.209</td><td>   0.41</td><td> TRUE</td></tr>\n",
              "\t<tr><td>Saturn </td><td>Gas giant         </td><td> 9.449</td><td>   0.43</td><td> TRUE</td></tr>\n",
              "\t<tr><td>Uranus </td><td>Gas giant         </td><td> 4.007</td><td>  -0.72</td><td> TRUE</td></tr>\n",
              "\t<tr><td>Neptune</td><td>Gas giant         </td><td> 3.883</td><td>   0.67</td><td> TRUE</td></tr>\n",
              "</tbody>\n",
              "</table>\n"
            ]
          },
          "metadata": {
            "tags": []
          }
        }
      ]
    },
    {
      "cell_type": "code",
      "metadata": {
        "id": "lLxlqmRwY278",
        "colab_type": "code",
        "colab": {
          "base_uri": "https://localhost:8080/",
          "height": 51
        },
        "outputId": "267919f6-bb25-45ba-a50a-c44e750cfd29"
      },
      "source": [
        "#숫자로 index할때는 조심하자!\n",
        "anything_list[1]"
      ],
      "execution_count": null,
      "outputs": [
        {
          "output_type": "display_data",
          "data": {
            "text/plain": [
              "$numbers\n",
              " first second  third \n",
              "     1      2      3 \n"
            ],
            "text/latex": "\\textbf{\\$numbers} = \\begin{description*}\n\\item[first] 1\n\\item[second] 2\n\\item[third] 3\n\\end{description*}\n",
            "text/markdown": "**$numbers** = first\n:   1second\n:   2third\n:   3\n\n",
            "text/html": [
              "<strong>$numbers</strong> = <style>\n",
              ".dl-inline {width: auto; margin:0; padding: 0}\n",
              ".dl-inline>dt, .dl-inline>dd {float: none; width: auto; display: inline-block}\n",
              ".dl-inline>dt::after {content: \":\\0020\"; padding-right: .5ex}\n",
              ".dl-inline>dt:not(:first-of-type) {padding-left: .5ex}\n",
              "</style><dl class=dl-inline><dt>first</dt><dd>1</dd><dt>second</dt><dd>2</dd><dt>third</dt><dd>3</dd></dl>\n"
            ]
          },
          "metadata": {
            "tags": []
          }
        }
      ]
    },
    {
      "cell_type": "code",
      "metadata": {
        "id": "N22Czik8Y6JH",
        "colab_type": "code",
        "colab": {
          "base_uri": "https://localhost:8080/",
          "height": 34
        },
        "outputId": "ef3b1314-528f-4aab-bc25-1fe5f4ea5ed6"
      },
      "source": [
        "anything_list[[1]]"
      ],
      "execution_count": null,
      "outputs": [
        {
          "output_type": "display_data",
          "data": {
            "text/plain": [
              " first second  third \n",
              "     1      2      3 "
            ],
            "text/latex": "\\begin{description*}\n\\item[first] 1\n\\item[second] 2\n\\item[third] 3\n\\end{description*}\n",
            "text/markdown": "first\n:   1second\n:   2third\n:   3\n\n",
            "text/html": [
              "<style>\n",
              ".dl-inline {width: auto; margin:0; padding: 0}\n",
              ".dl-inline>dt, .dl-inline>dd {float: none; width: auto; display: inline-block}\n",
              ".dl-inline>dt::after {content: \":\\0020\"; padding-right: .5ex}\n",
              ".dl-inline>dt:not(:first-of-type) {padding-left: .5ex}\n",
              "</style><dl class=dl-inline><dt>first</dt><dd>1</dd><dt>second</dt><dd>2</dd><dt>third</dt><dd>3</dd></dl>\n"
            ]
          },
          "metadata": {
            "tags": []
          }
        }
      ]
    },
    {
      "cell_type": "markdown",
      "metadata": {
        "id": "_cbSQyJVZEL7",
        "colab_type": "text"
      },
      "source": [
        "다시한번 정리를하면\n",
        "\n",
        "\n",
        "*   vector일때는 []\n",
        "*   list일때는 [[]]\n",
        "\n",
        "\n",
        "\n",
        "를 이용하여 선택한다!"
      ]
    }
  ]
}