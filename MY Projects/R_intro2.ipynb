{
  "nbformat": 4,
  "nbformat_minor": 0,
  "metadata": {
    "colab": {
      "name": "R-intro2.ipynb",
      "provenance": [],
      "collapsed_sections": []
    },
    "kernelspec": {
      "name": "ir",
      "display_name": "R"
    }
  },
  "cells": [
    {
      "cell_type": "markdown",
      "metadata": {
        "id": "c0U_AUkBG1St",
        "colab_type": "text"
      },
      "source": [
        "이전에는 Data Type과 관련된 얘기가 많았다면\n",
        " 이번에는 그 외에 기본적으로 알고 있어야하는 R의 기능들을 더 정리해 보았다. **굵은 텍스트**"
      ]
    },
    {
      "cell_type": "markdown",
      "metadata": {
        "id": "j09JP-I6DDHI",
        "colab_type": "text"
      },
      "source": [
        "## Conditionals과 Control Flow\n",
        "\n",
        "예시를 통해 알아보자"
      ]
    },
    {
      "cell_type": "code",
      "metadata": {
        "id": "Nv68XBsSDC4W",
        "colab_type": "code",
        "colab": {
          "base_uri": "https://localhost:8080/",
          "height": 34
        },
        "outputId": "4986a370-77e1-4ffc-c5a5-d95969442b9b"
      },
      "source": [
        "TRUE == 1"
      ],
      "execution_count": null,
      "outputs": [
        {
          "output_type": "display_data",
          "data": {
            "text/plain": [
              "[1] TRUE"
            ],
            "text/latex": "TRUE",
            "text/markdown": "TRUE",
            "text/html": [
              "TRUE"
            ]
          },
          "metadata": {
            "tags": []
          }
        }
      ]
    },
    {
      "cell_type": "markdown",
      "metadata": {
        "id": "DRm3fMMnDCOB",
        "colab_type": "text"
      },
      "source": [
        "알파벳끼리 비교를 할때에는 알파벳의 뒤일수록 큰것이다\n"
      ]
    },
    {
      "cell_type": "code",
      "metadata": {
        "id": "FUjjDjehCypb",
        "colab_type": "code",
        "colab": {
          "base_uri": "https://localhost:8080/",
          "height": 34
        },
        "outputId": "bc4450d0-6406-4077-f851-3583c46851ac"
      },
      "source": [
        "\"abc\">\"def\""
      ],
      "execution_count": null,
      "outputs": [
        {
          "output_type": "display_data",
          "data": {
            "text/plain": [
              "[1] FALSE"
            ],
            "text/latex": "FALSE",
            "text/markdown": "FALSE",
            "text/html": [
              "FALSE"
            ]
          },
          "metadata": {
            "tags": []
          }
        }
      ]
    },
    {
      "cell_type": "code",
      "metadata": {
        "id": "ik5lG9CjDbo7",
        "colab_type": "code",
        "colab": {
          "base_uri": "https://localhost:8080/",
          "height": 34
        },
        "outputId": "5bd31cfb-4095-4c75-98aa-1a7646da97aa"
      },
      "source": [
        "\"a\"<\"c\""
      ],
      "execution_count": null,
      "outputs": [
        {
          "output_type": "display_data",
          "data": {
            "text/plain": [
              "[1] TRUE"
            ],
            "text/latex": "TRUE",
            "text/markdown": "TRUE",
            "text/html": [
              "TRUE"
            ]
          },
          "metadata": {
            "tags": []
          }
        }
      ]
    },
    {
      "cell_type": "markdown",
      "metadata": {
        "id": "dO_4noPnD1By",
        "colab_type": "text"
      },
      "source": [
        "vector 혹은 matrix내에도 쓰일수있다."
      ]
    },
    {
      "cell_type": "code",
      "metadata": {
        "id": "MnRdO7PsDejg",
        "colab_type": "code",
        "colab": {
          "base_uri": "https://localhost:8080/",
          "height": 34
        },
        "outputId": "25ebcbfb-9889-45c9-9830-1df1ca63ed80"
      },
      "source": [
        "nums <- c(16,9,13,5,17,14)\n",
        "\n",
        "nums==13"
      ],
      "execution_count": null,
      "outputs": [
        {
          "output_type": "display_data",
          "data": {
            "text/plain": [
              "[1] FALSE FALSE  TRUE FALSE FALSE FALSE"
            ],
            "text/latex": "\\begin{enumerate*}\n\\item FALSE\n\\item FALSE\n\\item TRUE\n\\item FALSE\n\\item FALSE\n\\item FALSE\n\\end{enumerate*}\n",
            "text/markdown": "1. FALSE\n2. FALSE\n3. TRUE\n4. FALSE\n5. FALSE\n6. FALSE\n\n\n",
            "text/html": [
              "<style>\n",
              ".list-inline {list-style: none; margin:0; padding: 0}\n",
              ".list-inline>li {display: inline-block}\n",
              ".list-inline>li:not(:last-child)::after {content: \"\\00b7\"; padding: 0 .5ex}\n",
              "</style>\n",
              "<ol class=list-inline><li>FALSE</li><li>FALSE</li><li>TRUE</li><li>FALSE</li><li>FALSE</li><li>FALSE</li></ol>\n"
            ]
          },
          "metadata": {
            "tags": []
          }
        }
      ]
    },
    {
      "cell_type": "code",
      "metadata": {
        "id": "_2g8jDnfD8y_",
        "colab_type": "code",
        "colab": {
          "base_uri": "https://localhost:8080/",
          "height": 95
        },
        "outputId": "979b8525-d14f-4fb7-cc95-30bf47263ba5"
      },
      "source": [
        "nums.matrix <- matrix(c(nums),nrow=2)\n",
        "nums.matrix ==13\n"
      ],
      "execution_count": null,
      "outputs": [
        {
          "output_type": "display_data",
          "data": {
            "text/plain": [
              "     [,1]  [,2]  [,3] \n",
              "[1,] FALSE  TRUE FALSE\n",
              "[2,] FALSE FALSE FALSE"
            ],
            "text/latex": "A matrix: 2 × 3 of type lgl\n\\begin{tabular}{lll}\n\t FALSE &  TRUE & FALSE\\\\\n\t FALSE & FALSE & FALSE\\\\\n\\end{tabular}\n",
            "text/markdown": "\nA matrix: 2 × 3 of type lgl\n\n| FALSE |  TRUE | FALSE |\n| FALSE | FALSE | FALSE |\n\n",
            "text/html": [
              "<table>\n",
              "<caption>A matrix: 2 × 3 of type lgl</caption>\n",
              "<tbody>\n",
              "\t<tr><td>FALSE</td><td> TRUE</td><td>FALSE</td></tr>\n",
              "\t<tr><td>FALSE</td><td>FALSE</td><td>FALSE</td></tr>\n",
              "</tbody>\n",
              "</table>\n"
            ]
          },
          "metadata": {
            "tags": []
          }
        }
      ]
    },
    {
      "cell_type": "markdown",
      "metadata": {
        "id": "_17yMrvtEhuW",
        "colab_type": "text"
      },
      "source": [
        "&랑 |를 쓸수도 있다!\n"
      ]
    },
    {
      "cell_type": "code",
      "metadata": {
        "id": "xk5Sa1K5Emmi",
        "colab_type": "code",
        "colab": {
          "base_uri": "https://localhost:8080/",
          "height": 51
        },
        "outputId": "94ea102c-9f6e-41cd-aa75-7c356bc28f11"
      },
      "source": [
        "select <- nums>10 & nums<15\n",
        "#조건에 해당하는 원소의 개수?\n",
        "print(select)\n",
        "\n",
        "#조건에 해당하는 숫자만 print하기\n",
        "print(nums[select])"
      ],
      "execution_count": null,
      "outputs": [
        {
          "output_type": "stream",
          "text": [
            "[1] FALSE FALSE  TRUE FALSE FALSE  TRUE\n",
            "[1] 13 14\n"
          ],
          "name": "stdout"
        }
      ]
    },
    {
      "cell_type": "markdown",
      "metadata": {
        "id": "pK0-xM4jFCNj",
        "colab_type": "text"
      },
      "source": [
        "## Loop\n",
        "\n",
        "R 에서도 당연히 for loop을 이용할 수 있다!\n",
        "생김새도 python이랑 비슷한데 괄호에서 차이가 있다\n",
        "\n",
        "\n",
        "바로 예시로 가보자"
      ]
    },
    {
      "cell_type": "code",
      "metadata": {
        "id": "3kWyJ-JfFKCo",
        "colab_type": "code",
        "colab": {
          "base_uri": "https://localhost:8080/",
          "height": 119
        },
        "outputId": "28c64a73-1460-4e7d-eba4-79ebbcb6eba2"
      },
      "source": [
        "for (num in nums){\n",
        "  print(num)\n",
        "}"
      ],
      "execution_count": null,
      "outputs": [
        {
          "output_type": "stream",
          "text": [
            "[1] 16\n",
            "[1] 9\n",
            "[1] 13\n",
            "[1] 5\n",
            "[1] 17\n",
            "[1] 14\n"
          ],
          "name": "stdout"
        }
      ]
    },
    {
      "cell_type": "markdown",
      "metadata": {
        "id": "18WImiE3Fstj",
        "colab_type": "text"
      },
      "source": [
        "# Tip!\n",
        "\n",
        "잘 모르는 함수가 나올때는 앞에 ?를 붙여보자\n",
        "\n",
        "그리고 만약에 argument만 알고 싶다면 args(?)로 해주자\n",
        "\n"
      ]
    },
    {
      "cell_type": "code",
      "metadata": {
        "id": "MeoUN9AJF1zO",
        "colab_type": "code",
        "colab": {}
      },
      "source": [
        "?sd"
      ],
      "execution_count": null,
      "outputs": []
    },
    {
      "cell_type": "code",
      "metadata": {
        "id": "OEzhfASVF6dY",
        "colab_type": "code",
        "colab": {
          "base_uri": "https://localhost:8080/",
          "height": 51
        },
        "outputId": "0159df61-64a0-4093-da13-3acd88b8fb03"
      },
      "source": [
        "args(sd)"
      ],
      "execution_count": null,
      "outputs": [
        {
          "output_type": "display_data",
          "data": {
            "text/plain": [
              "function (x, na.rm = FALSE) \n",
              "NULL"
            ],
            "text/latex": "\\begin{minted}{r}\nfunction (x, na.rm = FALSE) \nNULL\n\\end{minted}",
            "text/markdown": "```r\nfunction (x, na.rm = FALSE) \nNULL\n```",
            "text/html": [
              "<pre class=language-r><code>function (x, na.rm = FALSE) \n",
              "NULL</code></pre>"
            ]
          },
          "metadata": {
            "tags": []
          }
        }
      ]
    },
    {
      "cell_type": "markdown",
      "metadata": {
        "id": "Rr1dPbfNF_QA",
        "colab_type": "text"
      },
      "source": [
        "# Function 만들기\n",
        "\n",
        "R에서 function을 만들때에는\n",
        "\n",
        "\n",
        "my_fun <- function(arg1, arg2) {   body }\n",
        "\n",
        "의 형식으로 만들면된다\n",
        "\n",
        "이때 값을 넘길때에는 **call by value**이다\n",
        "\n",
        "\n",
        "\n",
        "---\n",
        "\n",
        "##### function은 return을 따로 적을 필요없이 마지막 줄에 return 하고 싶은 object를 적어주면된다.\n"
      ]
    },
    {
      "cell_type": "code",
      "metadata": {
        "id": "qvS-Y5cpGL7T",
        "colab_type": "code",
        "colab": {}
      },
      "source": [
        "triple<- function(x){\n",
        "  x<-3*x\n",
        "  print(x)\n",
        "  x\n",
        "}"
      ],
      "execution_count": null,
      "outputs": []
    },
    {
      "cell_type": "code",
      "metadata": {
        "id": "IG-u2IZHGTP3",
        "colab_type": "code",
        "colab": {
          "base_uri": "https://localhost:8080/",
          "height": 68
        },
        "outputId": "d4f063bd-c550-476f-889d-17a7ef31aa14"
      },
      "source": [
        "a<-5\n",
        "triple(a)\n",
        "\n",
        "#단 R에서도 역시 call by value로 쓰고있다는점은 조심하자!\n",
        "print(a)"
      ],
      "execution_count": null,
      "outputs": [
        {
          "output_type": "stream",
          "text": [
            "[1] 15\n"
          ],
          "name": "stdout"
        },
        {
          "output_type": "display_data",
          "data": {
            "text/plain": [
              "[1] 15"
            ],
            "text/latex": "15",
            "text/markdown": "15",
            "text/html": [
              "15"
            ]
          },
          "metadata": {
            "tags": []
          }
        },
        {
          "output_type": "stream",
          "text": [
            "[1] 5\n"
          ],
          "name": "stdout"
        }
      ]
    },
    {
      "cell_type": "markdown",
      "metadata": {
        "id": "cOa3Vd0FHOfc",
        "colab_type": "text"
      },
      "source": [
        "# lapply\n",
        "\n",
        "function을 list혹은 vector에 apply하는것이다\n",
        "\n",
        "바로 예시를 봐조자"
      ]
    },
    {
      "cell_type": "code",
      "metadata": {
        "id": "k5B-sf-hHNMA",
        "colab_type": "code",
        "colab": {
          "base_uri": "https://localhost:8080/",
          "height": 96
        },
        "outputId": "94a31006-195d-4aca-9cda-b4814c0f890f"
      },
      "source": [
        "test <-c(1,2,3)\n",
        "\n",
        "multiply<- function(x,howmuch){\n",
        "  x*howmuch\n",
        "}\n",
        "\n",
        "#lapply를 적용해보면\n",
        "lapply(test, multiply, howmuch = 3)"
      ],
      "execution_count": null,
      "outputs": [
        {
          "output_type": "display_data",
          "data": {
            "text/plain": [
              "[[1]]\n",
              "[1] 3\n",
              "\n",
              "[[2]]\n",
              "[1] 6\n",
              "\n",
              "[[3]]\n",
              "[1] 9\n"
            ],
            "text/latex": "\\begin{enumerate}\n\\item 3\n\\item 6\n\\item 9\n\\end{enumerate}\n",
            "text/markdown": "1. 3\n2. 6\n3. 9\n\n\n",
            "text/html": [
              "<ol>\n",
              "\t<li>3</li>\n",
              "\t<li>6</li>\n",
              "\t<li>9</li>\n",
              "</ol>\n"
            ]
          },
          "metadata": {
            "tags": []
          }
        }
      ]
    },
    {
      "cell_type": "code",
      "metadata": {
        "id": "gnrCdUSgIK-U",
        "colab_type": "code",
        "colab": {
          "base_uri": "https://localhost:8080/",
          "height": 34
        },
        "outputId": "c74c21aa-2547-433e-a0ad-9bf0bfae86b2"
      },
      "source": [
        "class(lapply(test, multiply, howmuch = 3))"
      ],
      "execution_count": null,
      "outputs": [
        {
          "output_type": "display_data",
          "data": {
            "text/plain": [
              "[1] \"list\""
            ],
            "text/latex": "'list'",
            "text/markdown": "'list'",
            "text/html": [
              "'list'"
            ]
          },
          "metadata": {
            "tags": []
          }
        }
      ]
    },
    {
      "cell_type": "markdown",
      "metadata": {
        "id": "l7IlfvwZINBw",
        "colab_type": "text"
      },
      "source": [
        "list 형태로 return하는것을 볼수 있다\n",
        "\n",
        "이게만약에 싫으면 unlist해주면된다\n"
      ]
    },
    {
      "cell_type": "code",
      "metadata": {
        "id": "aT8gWhxZIfA2",
        "colab_type": "code",
        "colab": {
          "base_uri": "https://localhost:8080/",
          "height": 51
        },
        "outputId": "84b5ab09-77e1-4bf2-ea78-21c7581c96aa"
      },
      "source": [
        "print(unlist(lapply(test, multiply, howmuch = 3)))\n",
        "class(unlist(lapply(test, multiply, howmuch = 3)))"
      ],
      "execution_count": null,
      "outputs": [
        {
          "output_type": "stream",
          "text": [
            "[1] 3 6 9\n"
          ],
          "name": "stdout"
        },
        {
          "output_type": "display_data",
          "data": {
            "text/plain": [
              "[1] \"numeric\""
            ],
            "text/latex": "'numeric'",
            "text/markdown": "'numeric'",
            "text/html": [
              "'numeric'"
            ]
          },
          "metadata": {
            "tags": []
          }
        }
      ]
    },
    {
      "cell_type": "markdown",
      "metadata": {
        "id": "TuFdWytCImPT",
        "colab_type": "text"
      },
      "source": [
        "# sapply\n",
        "위의 과정을 매번하기 귀찮을때는 s(imple)apply를 해주면된다"
      ]
    },
    {
      "cell_type": "code",
      "metadata": {
        "id": "vqDeYCEbI5vU",
        "colab_type": "code",
        "colab": {
          "base_uri": "https://localhost:8080/",
          "height": 51
        },
        "outputId": "b55837ca-22d0-45e1-c180-41a75a56cd3f"
      },
      "source": [
        "sapply(test, multiply, howmuch = 3)\n",
        "class(sapply(test, multiply, howmuch = 3))"
      ],
      "execution_count": null,
      "outputs": [
        {
          "output_type": "display_data",
          "data": {
            "text/plain": [
              "[1] 3 6 9"
            ],
            "text/latex": "\\begin{enumerate*}\n\\item 3\n\\item 6\n\\item 9\n\\end{enumerate*}\n",
            "text/markdown": "1. 3\n2. 6\n3. 9\n\n\n",
            "text/html": [
              "<style>\n",
              ".list-inline {list-style: none; margin:0; padding: 0}\n",
              ".list-inline>li {display: inline-block}\n",
              ".list-inline>li:not(:last-child)::after {content: \"\\00b7\"; padding: 0 .5ex}\n",
              "</style>\n",
              "<ol class=list-inline><li>3</li><li>6</li><li>9</li></ol>\n"
            ]
          },
          "metadata": {
            "tags": []
          }
        },
        {
          "output_type": "display_data",
          "data": {
            "text/plain": [
              "[1] \"numeric\""
            ],
            "text/latex": "'numeric'",
            "text/markdown": "'numeric'",
            "text/html": [
              "'numeric'"
            ]
          },
          "metadata": {
            "tags": []
          }
        }
      ]
    },
    {
      "cell_type": "markdown",
      "metadata": {
        "id": "qwPntrpPJBmN",
        "colab_type": "text"
      },
      "source": [
        "# vapply\n",
        "그런데 사실 lapply를 하기에는 손이 너무 많이 가고 sapply를 하니까 너무 이상하게 simplify가 될때에는 **vapply를 이용해서 내가 어떤 형식으로 return해주고 싶은지 argument에서 정해주면된다.**"
      ]
    },
    {
      "cell_type": "code",
      "metadata": {
        "id": "dt3yMkNTJRQ8",
        "colab_type": "code",
        "colab": {
          "base_uri": "https://localhost:8080/",
          "height": 34
        },
        "outputId": "e8235513-d086-4a8a-f40c-ab5db5503fed"
      },
      "source": [
        "extremes<- function(x){\n",
        "  c(min = min(x), max = max(x))\n",
        "}\n",
        "print(nums)"
      ],
      "execution_count": null,
      "outputs": [
        {
          "output_type": "stream",
          "text": [
            "[1] 16  9 13  5 17 14\n"
          ],
          "name": "stdout"
        }
      ]
    },
    {
      "cell_type": "code",
      "metadata": {
        "id": "jK66p6hhKBXp",
        "colab_type": "code",
        "colab": {
          "base_uri": "https://localhost:8080/",
          "height": 476
        },
        "outputId": "6b3faa8a-d214-4650-8186-d505ebc4a211"
      },
      "source": [
        "print(lapply(nums,extremes) )\n",
        "print(sapply(nums,extremes))"
      ],
      "execution_count": null,
      "outputs": [
        {
          "output_type": "stream",
          "text": [
            "[[1]]\n",
            "min max \n",
            " 16  16 \n",
            "\n",
            "[[2]]\n",
            "min max \n",
            "  9   9 \n",
            "\n",
            "[[3]]\n",
            "min max \n",
            " 13  13 \n",
            "\n",
            "[[4]]\n",
            "min max \n",
            "  5   5 \n",
            "\n",
            "[[5]]\n",
            "min max \n",
            " 17  17 \n",
            "\n",
            "[[6]]\n",
            "min max \n",
            " 14  14 \n",
            "\n",
            "    [,1] [,2] [,3] [,4] [,5] [,6]\n",
            "min   16    9   13    5   17   14\n",
            "max   16    9   13    5   17   14\n"
          ],
          "name": "stdout"
        }
      ]
    },
    {
      "cell_type": "markdown",
      "metadata": {
        "id": "rvqsRsZIKPnN",
        "colab_type": "text"
      },
      "source": [
        "lapply와 sapply가 조금 다른데, vapply를 통해 내가 원하는게 뭔지 정확히 명시해주자!\n"
      ]
    },
    {
      "cell_type": "code",
      "metadata": {
        "id": "AVNlap0JKBlI",
        "colab_type": "code",
        "colab": {
          "base_uri": "https://localhost:8080/",
          "height": 68
        },
        "outputId": "4bec2145-edf7-4087-8568-c8212e25d626"
      },
      "source": [
        "print(vapply(nums,extremes,c(numeric(1),numeric(1))))"
      ],
      "execution_count": null,
      "outputs": [
        {
          "output_type": "stream",
          "text": [
            "    [,1] [,2] [,3] [,4] [,5] [,6]\n",
            "min   16    9   13    5   17   14\n",
            "max   16    9   13    5   17   14\n"
          ],
          "name": "stdout"
        }
      ]
    },
    {
      "cell_type": "markdown",
      "metadata": {
        "id": "HWnc725PK9Js",
        "colab_type": "text"
      },
      "source": [
        "# is.  as.\n",
        "\n",
        "*   is : __가 맞나?\n",
        "\n",
        "*   as : __로 바꿔라\n",
        "\n",
        "근데 개인적으로는 그냥 class를 써서 무슨 타입인지 보는게 나은거같다\n",
        "\n"
      ]
    },
    {
      "cell_type": "code",
      "metadata": {
        "id": "fMQCq1ilLLTe",
        "colab_type": "code",
        "colab": {
          "base_uri": "https://localhost:8080/",
          "height": 79
        },
        "outputId": "3223697c-9ab1-4292-cd84-76c9540126ec"
      },
      "source": [
        "li <- list(\"a\",\"b\")\n",
        "li"
      ],
      "execution_count": null,
      "outputs": [
        {
          "output_type": "display_data",
          "data": {
            "text/plain": [
              "[[1]]\n",
              "[1] \"a\"\n",
              "\n",
              "[[2]]\n",
              "[1] \"b\"\n"
            ],
            "text/latex": "\\begin{enumerate}\n\\item 'a'\n\\item 'b'\n\\end{enumerate}\n",
            "text/markdown": "1. 'a'\n2. 'b'\n\n\n",
            "text/html": [
              "<ol>\n",
              "\t<li>'a'</li>\n",
              "\t<li>'b'</li>\n",
              "</ol>\n"
            ]
          },
          "metadata": {
            "tags": []
          }
        }
      ]
    },
    {
      "cell_type": "code",
      "metadata": {
        "id": "PsKtUP93LS96",
        "colab_type": "code",
        "colab": {
          "base_uri": "https://localhost:8080/",
          "height": 34
        },
        "outputId": "4c12e828-ba78-47c7-a5f3-f0d0ba15acd4"
      },
      "source": [
        "is.list(li)"
      ],
      "execution_count": null,
      "outputs": [
        {
          "output_type": "display_data",
          "data": {
            "text/plain": [
              "[1] TRUE"
            ],
            "text/latex": "TRUE",
            "text/markdown": "TRUE",
            "text/html": [
              "TRUE"
            ]
          },
          "metadata": {
            "tags": []
          }
        }
      ]
    },
    {
      "cell_type": "code",
      "metadata": {
        "id": "7jHrkojXLU8T",
        "colab_type": "code",
        "colab": {
          "base_uri": "https://localhost:8080/",
          "height": 51
        },
        "outputId": "49b9ddbe-bfc2-4717-c36c-c28a9e3dbfac"
      },
      "source": [
        "print(unlist(li))\n",
        "is.vector(unlist(li))"
      ],
      "execution_count": null,
      "outputs": [
        {
          "output_type": "stream",
          "text": [
            "[1] \"a\" \"b\"\n"
          ],
          "name": "stdout"
        },
        {
          "output_type": "display_data",
          "data": {
            "text/plain": [
              "[1] TRUE"
            ],
            "text/latex": "TRUE",
            "text/markdown": "TRUE",
            "text/html": [
              "TRUE"
            ]
          },
          "metadata": {
            "tags": []
          }
        }
      ]
    },
    {
      "cell_type": "markdown",
      "metadata": {
        "id": "fsPwrma0MBpT",
        "colab_type": "text"
      },
      "source": [
        "# appendm, rev"
      ]
    },
    {
      "cell_type": "code",
      "metadata": {
        "id": "NjotXpRyMKJi",
        "colab_type": "code",
        "colab": {
          "base_uri": "https://localhost:8080/",
          "height": 51
        },
        "outputId": "b662f254-d0c1-49a1-acf1-15a4c9858621"
      },
      "source": [
        "seq1 <- seq(1,10, by=3)\n",
        "seq1\n",
        "seq2 <- seq(1200,900, by=-100)\n",
        "seq2"
      ],
      "execution_count": null,
      "outputs": [
        {
          "output_type": "display_data",
          "data": {
            "text/plain": [
              "[1]  1  4  7 10"
            ],
            "text/latex": "\\begin{enumerate*}\n\\item 1\n\\item 4\n\\item 7\n\\item 10\n\\end{enumerate*}\n",
            "text/markdown": "1. 1\n2. 4\n3. 7\n4. 10\n\n\n",
            "text/html": [
              "<style>\n",
              ".list-inline {list-style: none; margin:0; padding: 0}\n",
              ".list-inline>li {display: inline-block}\n",
              ".list-inline>li:not(:last-child)::after {content: \"\\00b7\"; padding: 0 .5ex}\n",
              "</style>\n",
              "<ol class=list-inline><li>1</li><li>4</li><li>7</li><li>10</li></ol>\n"
            ]
          },
          "metadata": {
            "tags": []
          }
        },
        {
          "output_type": "display_data",
          "data": {
            "text/plain": [
              "[1] 1200 1100 1000  900"
            ],
            "text/latex": "\\begin{enumerate*}\n\\item 1200\n\\item 1100\n\\item 1000\n\\item 900\n\\end{enumerate*}\n",
            "text/markdown": "1. 1200\n2. 1100\n3. 1000\n4. 900\n\n\n",
            "text/html": [
              "<style>\n",
              ".list-inline {list-style: none; margin:0; padding: 0}\n",
              ".list-inline>li {display: inline-block}\n",
              ".list-inline>li:not(:last-child)::after {content: \"\\00b7\"; padding: 0 .5ex}\n",
              "</style>\n",
              "<ol class=list-inline><li>1200</li><li>1100</li><li>1000</li><li>900</li></ol>\n"
            ]
          },
          "metadata": {
            "tags": []
          }
        }
      ]
    },
    {
      "cell_type": "code",
      "metadata": {
        "id": "MepEDkKVMY6i",
        "colab_type": "code",
        "colab": {
          "base_uri": "https://localhost:8080/",
          "height": 34
        },
        "outputId": "8000a04c-7ea9-468e-f764-52ddbfa0b2e9"
      },
      "source": [
        "merged <- append(seq1,seq2)\n",
        "merged"
      ],
      "execution_count": null,
      "outputs": [
        {
          "output_type": "display_data",
          "data": {
            "text/plain": [
              "[1]    1    4    7   10 1200 1100 1000  900"
            ],
            "text/latex": "\\begin{enumerate*}\n\\item 1\n\\item 4\n\\item 7\n\\item 10\n\\item 1200\n\\item 1100\n\\item 1000\n\\item 900\n\\end{enumerate*}\n",
            "text/markdown": "1. 1\n2. 4\n3. 7\n4. 10\n5. 1200\n6. 1100\n7. 1000\n8. 900\n\n\n",
            "text/html": [
              "<style>\n",
              ".list-inline {list-style: none; margin:0; padding: 0}\n",
              ".list-inline>li {display: inline-block}\n",
              ".list-inline>li:not(:last-child)::after {content: \"\\00b7\"; padding: 0 .5ex}\n",
              "</style>\n",
              "<ol class=list-inline><li>1</li><li>4</li><li>7</li><li>10</li><li>1200</li><li>1100</li><li>1000</li><li>900</li></ol>\n"
            ]
          },
          "metadata": {
            "tags": []
          }
        }
      ]
    },
    {
      "cell_type": "code",
      "metadata": {
        "id": "ojLmDtOsMcfk",
        "colab_type": "code",
        "colab": {
          "base_uri": "https://localhost:8080/",
          "height": 51
        },
        "outputId": "27cb49ed-a721-4491-a74f-2174636cc888"
      },
      "source": [
        "merged<- append(merged,rev(merged))\n",
        "print(merged)"
      ],
      "execution_count": null,
      "outputs": [
        {
          "output_type": "stream",
          "text": [
            " [1]    1    4    7   10 1200 1100 1000  900  900 1000 1100 1200   10    7    4\n",
            "[16]    1\n"
          ],
          "name": "stdout"
        }
      ]
    },
    {
      "cell_type": "markdown",
      "metadata": {
        "id": "4VComr7JM-tG",
        "colab_type": "text"
      },
      "source": [
        "# grep, grepl\n",
        "string에서 pattern을 찾을때 쓰는 function이다\n",
        "\n",
        "> grepl의 l은 logical의 l이다\n",
        "\n",
        "\n",
        "\n",
        "\n",
        "\n",
        "---\n",
        "\n",
        "\n",
        "*여기서 쓰이는 grep은 간단한 \"찾기\"에는 도움되지만 좀더 복잡한 pattern 을 찾기위해선는 stringr 패키지의 도움을 받아야한다.*\n",
        "\n",
        "*나중에 string관련해서는 더 자세히 정리할거다*"
      ]
    },
    {
      "cell_type": "code",
      "metadata": {
        "id": "VF9gI6cFNa9y",
        "colab_type": "code",
        "colab": {
          "base_uri": "https://localhost:8080/",
          "height": 34
        },
        "outputId": "250e0867-686d-44fb-a930-95616d0c06f2"
      },
      "source": [
        "animals<- c(\"cat\",\"moose\",\"ant\",\"tiger\")\n",
        "my_pattern<- grepl(pattern = \"a\", x=animals)\n",
        "\n",
        "animals[my_pattern]"
      ],
      "execution_count": null,
      "outputs": [
        {
          "output_type": "display_data",
          "data": {
            "text/plain": [
              "[1] \"cat\" \"ant\""
            ],
            "text/latex": "\\begin{enumerate*}\n\\item 'cat'\n\\item 'ant'\n\\end{enumerate*}\n",
            "text/markdown": "1. 'cat'\n2. 'ant'\n\n\n",
            "text/html": [
              "<style>\n",
              ".list-inline {list-style: none; margin:0; padding: 0}\n",
              ".list-inline>li {display: inline-block}\n",
              ".list-inline>li:not(:last-child)::after {content: \"\\00b7\"; padding: 0 .5ex}\n",
              "</style>\n",
              "<ol class=list-inline><li>'cat'</li><li>'ant'</li></ol>\n"
            ]
          },
          "metadata": {
            "tags": []
          }
        }
      ]
    },
    {
      "cell_type": "code",
      "metadata": {
        "id": "RHuluShbNqhB",
        "colab_type": "code",
        "colab": {
          "base_uri": "https://localhost:8080/",
          "height": 34
        },
        "outputId": "a8925bf8-b3ab-495b-ec08-4e49dfc07d9a"
      },
      "source": [
        "my_position <- grep(pattern = \"a\", x=animals)\n",
        "my_position"
      ],
      "execution_count": null,
      "outputs": [
        {
          "output_type": "display_data",
          "data": {
            "text/plain": [
              "[1] 1 3"
            ],
            "text/latex": "\\begin{enumerate*}\n\\item 1\n\\item 3\n\\end{enumerate*}\n",
            "text/markdown": "1. 1\n2. 3\n\n\n",
            "text/html": [
              "<style>\n",
              ".list-inline {list-style: none; margin:0; padding: 0}\n",
              ".list-inline>li {display: inline-block}\n",
              ".list-inline>li:not(:last-child)::after {content: \"\\00b7\"; padding: 0 .5ex}\n",
              "</style>\n",
              "<ol class=list-inline><li>1</li><li>3</li></ol>\n"
            ]
          },
          "metadata": {
            "tags": []
          }
        }
      ]
    },
    {
      "cell_type": "markdown",
      "metadata": {
        "id": "O5gjUL0jM-fn",
        "colab_type": "text"
      },
      "source": [
        "# sub, gsub\n",
        "위의 grep은 찾는거였다면\n",
        "sub은 substitute의 s이다, 즉 대체해줄것이다!"
      ]
    },
    {
      "cell_type": "code",
      "metadata": {
        "id": "XOjdLPHWOO_l",
        "colab_type": "code",
        "colab": {
          "base_uri": "https://localhost:8080/",
          "height": 34
        },
        "outputId": "97519ede-799c-4444-e831-3f8cf9469246"
      },
      "source": [
        "#모든 모음을 _로 바꿔보자\n",
        "gsub(pattern = \"a|e|i|o|u\", replacement = \"_\", x= animals)"
      ],
      "execution_count": null,
      "outputs": [
        {
          "output_type": "display_data",
          "data": {
            "text/plain": [
              "[1] \"c_t\"   \"m__s_\" \"_nt\"   \"t_g_r\""
            ],
            "text/latex": "\\begin{enumerate*}\n\\item 'c\\_t'\n\\item 'm\\_\\_s\\_'\n\\item '\\_nt'\n\\item 't\\_g\\_r'\n\\end{enumerate*}\n",
            "text/markdown": "1. 'c_t'\n2. 'm__s_'\n3. '_nt'\n4. 't_g_r'\n\n\n",
            "text/html": [
              "<style>\n",
              ".list-inline {list-style: none; margin:0; padding: 0}\n",
              ".list-inline>li {display: inline-block}\n",
              ".list-inline>li:not(:last-child)::after {content: \"\\00b7\"; padding: 0 .5ex}\n",
              "</style>\n",
              "<ol class=list-inline><li>'c_t'</li><li>'m__s_'</li><li>'_nt'</li><li>'t_g_r'</li></ol>\n"
            ]
          },
          "metadata": {
            "tags": []
          }
        }
      ]
    }
  ]
}